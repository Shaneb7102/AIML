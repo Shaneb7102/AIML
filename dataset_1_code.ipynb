{
 "cells": [
  {
   "cell_type": "code",
   "execution_count": 35,
   "metadata": {},
   "outputs": [],
   "source": [
    "import pandas as pd\n",
    "import numpy as np\n",
    "from sklearn.preprocessing import LabelEncoder, StandardScaler, OneHotEncoder\n",
    "from sklearn.model_selection import train_test_split\n",
    "from imblearn.over_sampling import SMOTE\n",
    "from sklearn.svm import SVC\n",
    "from sklearn.neural_network import MLPClassifier\n",
    "from sklearn.ensemble import RandomForestClassifier\n",
    "from sklearn.naive_bayes import GaussianNB\n",
    "from sklearn.neighbors import KNeighborsClassifier\n",
    "from sklearn.metrics import accuracy_score, precision_score, recall_score, f1_score, classification_report, confusion_matrix\n",
    "import matplotlib.pyplot as plt"
   ]
  },
  {
   "cell_type": "code",
   "execution_count": 36,
   "metadata": {},
   "outputs": [
    {
     "name": "stdout",
     "output_type": "stream",
     "text": [
      "Training Data Sample:\n",
      "       Air temperature [K]  Process temperature [K]  Rotational speed [rpm]  \\\n",
      "9254            -0.852397                -0.610355                0.430756   \n",
      "1561            -0.902393                -1.082162               -0.841032   \n",
      "1670            -0.902393                -1.486567               -0.060109   \n",
      "6087             0.447499                 0.535460                0.335930   \n",
      "6669             0.697480                 0.333257                0.179746   \n",
      "\n",
      "      Torque [Nm]  Tool wear [min]    Target  Type_L  Type_M  \n",
      "9254    -0.891505         1.367599 -0.187322    True   False  \n",
      "1561     1.385683         0.456380 -0.187322    True   False  \n",
      "1670    -0.891505         1.351888 -0.187322    True   False  \n",
      "6087    -0.700903        -1.586009 -0.187322   False    True  \n",
      "6669    -0.610618         1.571838 -0.187322    True   False  \n",
      "Training Labels Distribution:\n",
      " Failure\n",
      "0    7717\n",
      "1     283\n",
      "Name: count, dtype: int64\n"
     ]
    }
   ],
   "source": [
    "# Load and preprocess dataset\n",
    "results = {}\n",
    "file_path = 'datasets/dataset_1.csv'\n",
    "data = pd.read_csv(file_path)\n",
    "\n",
    "data.drop(columns=['UDI', 'Product ID'], inplace=True, errors='ignore')\n",
    "\n",
    "data['Failure'] = data['Failure Type'].apply(lambda x: 0 if x == 'No Failure' else 1)\n",
    "data.drop(columns=['Failure Type'], inplace=True)\n",
    "data = pd.get_dummies(data, columns=['Type'], drop_first=True)\n",
    "\n",
    "numerical_columns = data.select_dtypes(include=['float64', 'int64']).columns.drop('Failure')\n",
    "scaler = StandardScaler()\n",
    "data[numerical_columns] = scaler.fit_transform(data[numerical_columns])\n",
    "\n",
    "X = data.drop(columns=['Failure'])\n",
    "y = data['Failure']\n",
    "\n",
    "X_train, X_test, y_train, y_test = train_test_split(X, y, test_size=0.2, random_state=42)\n",
    "\n",
    "print(\"Training Data Sample:\\n\", X_train.head())\n",
    "print(\"Training Labels Distribution:\\n\", y_train.value_counts())"
   ]
  },
  {
   "cell_type": "code",
   "execution_count": 37,
   "metadata": {},
   "outputs": [],
   "source": [
    "# Function to train and evaluate a model\n",
    "results = {}\n",
    "def train_and_evaluate_model(model, model_name):\n",
    "    print(f\"Training {model_name}...\")\n",
    "    model.fit(X_train, y_train)\n",
    "    y_pred = model.predict(X_test)\n",
    "    # accuracy = accuracy_score(y_test, y_pred)\n",
    "    report = classification_report(y_test, y_pred)\n",
    "    # Calculate metrics\n",
    "    results[model_name] = {\n",
    "        'accuracy': accuracy_score(y_test, y_pred),\n",
    "        'precision': precision_score(y_test, y_pred, average='weighted'),\n",
    "        'recall': recall_score(y_test, y_pred, average='weighted'),\n",
    "        'f1_score': f1_score(y_test, y_pred, average='weighted')\n",
    "    }\n",
    "\n",
    "    print(f\"{model_name} Accuracy: {results[model_name]['accuracy']}\")\n",
    "    print(\"Confusion Matrix:\\n\", confusion_matrix(y_test, y_pred))\n",
    "    print(f\"Classification Report for {model_name}:\\n\", report)\n",
    "    print(\"-\" * 80)"
   ]
  },
  {
   "cell_type": "code",
   "execution_count": 38,
   "metadata": {},
   "outputs": [],
   "source": [
    "def plot_model_performance(results):\n",
    "    \"\"\"\n",
    "    Create a comprehensive bar plot to visualize model performance metrics.\n",
    "    \n",
    "    Parameters:\n",
    "    - results: Dictionary of performance metrics for each model\n",
    "    \"\"\"\n",
    "    plt.figure(figsize=(12, 6))\n",
    "    \n",
    "    # Prepare data for plotting\n",
    "    models = list(results.keys())\n",
    "    metrics = ['accuracy', 'precision', 'recall', 'f1_score']\n",
    "    \n",
    "    # Set up bar positions\n",
    "    x = np.arange(len(models))\n",
    "    width = 0.2\n",
    "    \n",
    "    # Plot each metric\n",
    "    for i, metric in enumerate(metrics):\n",
    "        metric_values = [results[model][metric] for model in models]\n",
    "        plt.bar(x + i*width, metric_values, width, label=metric.capitalize())\n",
    "    \n",
    "    # Customize the plot\n",
    "    plt.xlabel('Models', fontsize=12)\n",
    "    plt.ylabel('Score', fontsize=12)\n",
    "    plt.title('Model Performance Comparison', fontsize=14)\n",
    "    plt.xticks(x + width*1.5, models, rotation=45)\n",
    "    plt.ylim(0, 1)  # Metrics are typically between 0 and 1\n",
    "    plt.legend(loc='lower right')\n",
    "    plt.tight_layout()\n",
    "    \n",
    "    # Add value labels on top of each bar\n",
    "    for i, metric in enumerate(metrics):\n",
    "        metric_values = [results[model][metric] for model in models]\n",
    "        for j, v in enumerate(metric_values):\n",
    "            plt.text(j + i*width, v, f'{v:.2f}', ha='center', va='bottom', fontsize=8)\n",
    "    \n",
    "    plt.show()"
   ]
  },
  {
   "cell_type": "code",
   "execution_count": 39,
   "metadata": {},
   "outputs": [
    {
     "name": "stdout",
     "output_type": "stream",
     "text": [
      "Training SVM...\n",
      "SVM Accuracy: 0.9935\n",
      "Confusion Matrix:\n",
      " [[1928    7]\n",
      " [   6   59]]\n",
      "Classification Report for SVM:\n",
      "               precision    recall  f1-score   support\n",
      "\n",
      "           0       1.00      1.00      1.00      1935\n",
      "           1       0.89      0.91      0.90        65\n",
      "\n",
      "    accuracy                           0.99      2000\n",
      "   macro avg       0.95      0.95      0.95      2000\n",
      "weighted avg       0.99      0.99      0.99      2000\n",
      "\n",
      "--------------------------------------------------------------------------------\n"
     ]
    }
   ],
   "source": [
    "#SVM model\n",
    "svm_model = SVC(kernel='rbf', random_state=42, class_weight='balanced')\n",
    "train_and_evaluate_model(svm_model, \"SVM\")"
   ]
  },
  {
   "cell_type": "code",
   "execution_count": 40,
   "metadata": {},
   "outputs": [
    {
     "name": "stdout",
     "output_type": "stream",
     "text": [
      "Training ANN...\n",
      "ANN Accuracy: 0.996\n",
      "Confusion Matrix:\n",
      " [[1933    2]\n",
      " [   6   59]]\n",
      "Classification Report for ANN:\n",
      "               precision    recall  f1-score   support\n",
      "\n",
      "           0       1.00      1.00      1.00      1935\n",
      "           1       0.97      0.91      0.94        65\n",
      "\n",
      "    accuracy                           1.00      2000\n",
      "   macro avg       0.98      0.95      0.97      2000\n",
      "weighted avg       1.00      1.00      1.00      2000\n",
      "\n",
      "--------------------------------------------------------------------------------\n"
     ]
    }
   ],
   "source": [
    "# ANN\n",
    "ann_model = MLPClassifier(hidden_layer_sizes=(100,), max_iter=300, random_state=42)\n",
    "train_and_evaluate_model(ann_model, \"ANN\")"
   ]
  },
  {
   "cell_type": "code",
   "execution_count": 41,
   "metadata": {},
   "outputs": [
    {
     "name": "stdout",
     "output_type": "stream",
     "text": [
      "Training Random Forest...\n",
      "Random Forest Accuracy: 0.996\n",
      "Confusion Matrix:\n",
      " [[1933    2]\n",
      " [   6   59]]\n",
      "Classification Report for Random Forest:\n",
      "               precision    recall  f1-score   support\n",
      "\n",
      "           0       1.00      1.00      1.00      1935\n",
      "           1       0.97      0.91      0.94        65\n",
      "\n",
      "    accuracy                           1.00      2000\n",
      "   macro avg       0.98      0.95      0.97      2000\n",
      "weighted avg       1.00      1.00      1.00      2000\n",
      "\n",
      "--------------------------------------------------------------------------------\n"
     ]
    }
   ],
   "source": [
    "# Random Forest\n",
    "rf_model = RandomForestClassifier(n_estimators=100, random_state=42, class_weight='balanced')\n",
    "train_and_evaluate_model(rf_model, \"Random Forest\")"
   ]
  },
  {
   "cell_type": "code",
   "execution_count": 42,
   "metadata": {},
   "outputs": [
    {
     "name": "stdout",
     "output_type": "stream",
     "text": [
      "Training Naive Bayes...\n",
      "Naive Bayes Accuracy: 0.9955\n",
      "Confusion Matrix:\n",
      " [[1932    3]\n",
      " [   6   59]]\n",
      "Classification Report for Naive Bayes:\n",
      "               precision    recall  f1-score   support\n",
      "\n",
      "           0       1.00      1.00      1.00      1935\n",
      "           1       0.95      0.91      0.93        65\n",
      "\n",
      "    accuracy                           1.00      2000\n",
      "   macro avg       0.97      0.95      0.96      2000\n",
      "weighted avg       1.00      1.00      1.00      2000\n",
      "\n",
      "--------------------------------------------------------------------------------\n"
     ]
    }
   ],
   "source": [
    "# Naive Bayes\n",
    "nb_model = GaussianNB()\n",
    "train_and_evaluate_model(nb_model, \"Naive Bayes\")"
   ]
  },
  {
   "cell_type": "code",
   "execution_count": 43,
   "metadata": {},
   "outputs": [
    {
     "name": "stdout",
     "output_type": "stream",
     "text": [
      "Training KNN...\n",
      "KNN Accuracy: 0.996\n",
      "Confusion Matrix:\n",
      " [[1933    2]\n",
      " [   6   59]]\n",
      "Classification Report for KNN:\n",
      "               precision    recall  f1-score   support\n",
      "\n",
      "           0       1.00      1.00      1.00      1935\n",
      "           1       0.97      0.91      0.94        65\n",
      "\n",
      "    accuracy                           1.00      2000\n",
      "   macro avg       0.98      0.95      0.97      2000\n",
      "weighted avg       1.00      1.00      1.00      2000\n",
      "\n",
      "--------------------------------------------------------------------------------\n"
     ]
    }
   ],
   "source": [
    "# K-Nearest Neighbors (KNN)\n",
    "knn_model = KNeighborsClassifier(n_neighbors=5)\n",
    "train_and_evaluate_model(knn_model, \"KNN\")"
   ]
  },
  {
   "cell_type": "code",
   "execution_count": 44,
   "metadata": {},
   "outputs": [
    {
     "data": {
      "image/png": "[encoded data removed]",
      "text/plain": [
       "<Figure size 1200x600 with 1 Axes>"
      ]
     },
     "metadata": {},
     "output_type": "display_data"
    }
   ],
   "source": [
    "plot_model_performance(results)"
   ]
  }
 ],
 "metadata": {
  "kernelspec": {
   "display_name": "base",
   "language": "python",
   "name": "python3"
  },
  "language_info": {
   "codemirror_mode": {
    "name": "ipython",
    "version": 3
   },
   "file_extension": ".py",
   "mimetype": "text/x-python",
   "name": "python",
   "nbconvert_exporter": "python",
   "pygments_lexer": "ipython3",
   "version": "3.12.4"
  }
 },
 "nbformat": 4,
 "nbformat_minor": 2
}
