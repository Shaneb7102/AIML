{
 "cells": [
  {
   "cell_type": "code",
   "execution_count": 8,
   "metadata": {},
   "outputs": [],
   "source": [
    "import pandas as pd\n",
    "from sklearn.preprocessing import LabelEncoder, StandardScaler, OneHotEncoder\n",
    "from sklearn.model_selection import train_test_split\n",
    "from imblearn.over_sampling import SMOTE\n",
    "from sklearn.metrics import classification_report, confusion_matrix, accuracy_score"
   ]
  },
  {
   "cell_type": "code",
   "execution_count": 9,
   "metadata": {},
   "outputs": [
    {
     "name": "stdout",
     "output_type": "stream",
     "text": [
      "Training Data Sample:\n",
      "       Air temperature [K]  Process temperature [K]  Rotational speed [rpm]  \\\n",
      "9254            -0.852397                -0.610355                0.430756   \n",
      "1561            -0.902393                -1.082162               -0.841032   \n",
      "1670            -0.902393                -1.486567               -0.060109   \n",
      "6087             0.447499                 0.535460                0.335930   \n",
      "6669             0.697480                 0.333257                0.179746   \n",
      "\n",
      "      Torque [Nm]  Tool wear [min]    Target  Type_L  Type_M  \n",
      "9254    -0.891505         1.367599 -0.187322    True   False  \n",
      "1561     1.385683         0.456380 -0.187322    True   False  \n",
      "1670    -0.891505         1.351888 -0.187322    True   False  \n",
      "6087    -0.700903        -1.586009 -0.187322   False    True  \n",
      "6669    -0.610618         1.571838 -0.187322    True   False  \n",
      "Training Labels Distribution:\n",
      " Failure\n",
      "0    7717\n",
      "1     283\n",
      "Name: count, dtype: int64\n"
     ]
    }
   ],
   "source": [
    "# Load and preprocess dataset\n",
    "file_path = 'datasets/dataset_1.csv'\n",
    "data = pd.read_csv(file_path)\n",
    "\n",
    "data.drop(columns=['UDI', 'Product ID'], inplace=True, errors='ignore')\n",
    "\n",
    "data['Failure'] = data['Failure Type'].apply(lambda x: 0 if x == 'No Failure' else 1)\n",
    "data.drop(columns=['Failure Type'], inplace=True)\n",
    "data = pd.get_dummies(data, columns=['Type'], drop_first=True)\n",
    "\n",
    "numerical_columns = data.select_dtypes(include=['float64', 'int64']).columns.drop('Failure')\n",
    "scaler = StandardScaler()\n",
    "data[numerical_columns] = scaler.fit_transform(data[numerical_columns])\n",
    "\n",
    "X = data.drop(columns=['Failure'])\n",
    "y = data['Failure']\n",
    "\n",
    "X_train, X_test, y_train, y_test = train_test_split(X, y, test_size=0.2, random_state=42)\n",
    "\n",
    "print(\"Training Data Sample:\\n\", X_train.head())\n",
    "print(\"Training Labels Distribution:\\n\", y_train.value_counts())"
   ]
  },
  {
   "cell_type": "code",
   "execution_count": 10,
   "metadata": {},
   "outputs": [
    {
     "name": "stdout",
     "output_type": "stream",
     "text": [
      "SVM Model:\n",
      "\n",
      "Confusion Matrix:\n",
      " [[1928    7]\n",
      " [   6   59]]\n",
      "\n",
      "Classification Report:\n",
      "               precision    recall  f1-score   support\n",
      "\n",
      "           0       1.00      1.00      1.00      1935\n",
      "           1       0.89      0.91      0.90        65\n",
      "\n",
      "    accuracy                           0.99      2000\n",
      "   macro avg       0.95      0.95      0.95      2000\n",
      "weighted avg       0.99      0.99      0.99      2000\n",
      "\n",
      "Accuracy: 0.9935\n"
     ]
    }
   ],
   "source": [
    "# SVM\n",
    "from sklearn.svm import SVC\n",
    "\n",
    "def train_and_evaluate_svm(X_train, y_train, X_test, y_test, kernel='rbf', class_weight='balanced', random_state=42):\n",
    "    print(\"SVM Model:\\n\")\n",
    "    svm_model = SVC(kernel=kernel, class_weight=class_weight, random_state=random_state)\n",
    "    svm_model.fit(X_train, y_train)\n",
    "    y_pred = svm_model.predict(X_test)\n",
    "    print(\"Confusion Matrix:\\n\", confusion_matrix(y_test, y_pred))\n",
    "    print(\"\\nClassification Report:\\n\", classification_report(y_test, y_pred))\n",
    "    print(\"Accuracy:\", accuracy_score(y_test, y_pred))\n",
    "\n",
    "train_and_evaluate_svm(X_train, y_train, X_test, y_test)"
   ]
  },
  {
   "cell_type": "code",
   "execution_count": 11,
   "metadata": {},
   "outputs": [
    {
     "name": "stdout",
     "output_type": "stream",
     "text": [
      "\n",
      "ANN Model:\n",
      "\n",
      "Confusion Matrix:\n",
      " [[1933    2]\n",
      " [   6   59]]\n",
      "\n",
      "Classification Report:\n",
      "               precision    recall  f1-score   support\n",
      "\n",
      "           0       1.00      1.00      1.00      1935\n",
      "           1       0.97      0.91      0.94        65\n",
      "\n",
      "    accuracy                           1.00      2000\n",
      "   macro avg       0.98      0.95      0.97      2000\n",
      "weighted avg       1.00      1.00      1.00      2000\n",
      "\n",
      "Accuracy: 0.996\n"
     ]
    }
   ],
   "source": [
    "# ANN\n",
    "from sklearn.neural_network import MLPClassifier\n",
    "\n",
    "def train_and_evaluate_ann(X_train, y_train, X_test, y_test, solver='adam', alpha=1e-5, random_state=42):\n",
    "    print(\"\\nANN Model:\\n\")\n",
    "    ann_model = MLPClassifier(solver=solver, alpha=alpha, random_state=random_state)\n",
    "    ann_model.fit(X_train, y_train)\n",
    "    y_pred = ann_model.predict(X_test)\n",
    "    print(\"Confusion Matrix:\\n\", confusion_matrix(y_test, y_pred))\n",
    "    print(\"\\nClassification Report:\\n\", classification_report(y_test, y_pred))\n",
    "    print(\"Accuracy:\", accuracy_score(y_test, y_pred))\n",
    "\n",
    "train_and_evaluate_ann(X_train, y_train, X_test, y_test)\n"
   ]
  },
  {
   "cell_type": "code",
   "execution_count": 12,
   "metadata": {},
   "outputs": [
    {
     "name": "stdout",
     "output_type": "stream",
     "text": [
      "\n",
      "Random Forest Model:\n",
      "\n",
      "Confusion Matrix:\n",
      " [[1933    2]\n",
      " [   6   59]]\n",
      "\n",
      "Classification Report:\n",
      "               precision    recall  f1-score   support\n",
      "\n",
      "           0       1.00      1.00      1.00      1935\n",
      "           1       0.97      0.91      0.94        65\n",
      "\n",
      "    accuracy                           1.00      2000\n",
      "   macro avg       0.98      0.95      0.97      2000\n",
      "weighted avg       1.00      1.00      1.00      2000\n",
      "\n",
      "Accuracy: 0.996\n"
     ]
    }
   ],
   "source": [
    "# Random Forest\n",
    "from sklearn.ensemble import RandomForestClassifier\n",
    "\n",
    "def train_and_evaluate_random_forest(X_train, y_train, X_test, y_test, n_estimators=100, random_state=42):\n",
    "    print(\"\\nRandom Forest Model:\\n\")\n",
    "    rf_model = RandomForestClassifier(n_estimators=n_estimators, random_state=random_state)\n",
    "    rf_model.fit(X_train, y_train)\n",
    "    y_pred = rf_model.predict(X_test)\n",
    "    print(\"Confusion Matrix:\\n\", confusion_matrix(y_test, y_pred))\n",
    "    print(\"\\nClassification Report:\\n\", classification_report(y_test, y_pred))\n",
    "    print(\"Accuracy:\", accuracy_score(y_test, y_pred))\n",
    "\n",
    "train_and_evaluate_random_forest(X_train, y_train, X_test, y_test)"
   ]
  },
  {
   "cell_type": "code",
   "execution_count": 13,
   "metadata": {},
   "outputs": [
    {
     "name": "stdout",
     "output_type": "stream",
     "text": [
      "\n",
      "Naive Bayes Model:\n",
      "\n",
      "Confusion Matrix:\n",
      " [[1932    3]\n",
      " [   6   59]]\n",
      "\n",
      "Classification Report:\n",
      "               precision    recall  f1-score   support\n",
      "\n",
      "           0       1.00      1.00      1.00      1935\n",
      "           1       0.95      0.91      0.93        65\n",
      "\n",
      "    accuracy                           1.00      2000\n",
      "   macro avg       0.97      0.95      0.96      2000\n",
      "weighted avg       1.00      1.00      1.00      2000\n",
      "\n",
      "Accuracy: 0.9955\n"
     ]
    }
   ],
   "source": [
    "# Naive Bayes\n",
    "from sklearn.naive_bayes import GaussianNB\n",
    "\n",
    "def train_and_evaluate_naive_bayes(X_train, y_train, X_test, y_test):\n",
    "    print(\"\\nNaive Bayes Model:\\n\")\n",
    "    nb_model = GaussianNB()\n",
    "    nb_model.fit(X_train, y_train)\n",
    "    y_pred = nb_model.predict(X_test)\n",
    "    print(\"Confusion Matrix:\\n\", confusion_matrix(y_test, y_pred))\n",
    "    print(\"\\nClassification Report:\\n\", classification_report(y_test, y_pred))\n",
    "    print(\"Accuracy:\", accuracy_score(y_test, y_pred))\n",
    "\n",
    "train_and_evaluate_naive_bayes(X_train, y_train, X_test, y_test)"
   ]
  },
  {
   "cell_type": "code",
   "execution_count": 14,
   "metadata": {},
   "outputs": [
    {
     "name": "stdout",
     "output_type": "stream",
     "text": [
      "\n",
      "K-Nearest Neighbors (KNN) Model:\n",
      "\n",
      "Confusion Matrix:\n",
      " [[1933    2]\n",
      " [   6   59]]\n",
      "\n",
      "Classification Report:\n",
      "               precision    recall  f1-score   support\n",
      "\n",
      "           0       1.00      1.00      1.00      1935\n",
      "           1       0.97      0.91      0.94        65\n",
      "\n",
      "    accuracy                           1.00      2000\n",
      "   macro avg       0.98      0.95      0.97      2000\n",
      "weighted avg       1.00      1.00      1.00      2000\n",
      "\n",
      "Accuracy: 0.996\n"
     ]
    }
   ],
   "source": [
    "# K-Nearest Neighbors (KNN)\n",
    "from sklearn.neighbors import KNeighborsClassifier\n",
    "\n",
    "def train_and_evaluate_knn(X_train, y_train, X_test, y_test, n_neighbors=5):\n",
    "    print(\"\\nK-Nearest Neighbors (KNN) Model:\\n\")\n",
    "    knn_model = KNeighborsClassifier(n_neighbors=n_neighbors)\n",
    "    knn_model.fit(X_train, y_train)\n",
    "    y_pred = knn_model.predict(X_test)\n",
    "    print(\"Confusion Matrix:\\n\", confusion_matrix(y_test, y_pred))\n",
    "    print(\"\\nClassification Report:\\n\", classification_report(y_test, y_pred))\n",
    "    print(\"Accuracy:\", accuracy_score(y_test, y_pred))\n",
    "\n",
    "train_and_evaluate_knn(X_train, y_train, X_test, y_test)"
   ]
  }
 ],
 "metadata": {
  "kernelspec": {
   "display_name": "base",
   "language": "python",
   "name": "python3"
  },
  "language_info": {
   "codemirror_mode": {
    "name": "ipython",
    "version": 3
   },
   "file_extension": ".py",
   "mimetype": "text/x-python",
   "name": "python",
   "nbconvert_exporter": "python",
   "pygments_lexer": "ipython3",
   "version": "3.12.4"
  }
 },
 "nbformat": 4,
 "nbformat_minor": 2
}
