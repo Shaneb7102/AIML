{
 "cells": [
  {
   "cell_type": "code",
   "execution_count": 1,
   "id": "c58131a7-eccf-4275-8ff2-39056c01182c",
   "metadata": {},
   "outputs": [],
   "source": [
    "# Import necessary libraries\n",
    "import pandas as pd\n",
    "import numpy as np\n",
    "from sklearn.model_selection import train_test_split\n",
    "from sklearn.preprocessing import StandardScaler, LabelEncoder\n",
    "from sklearn.svm import SVC\n",
    "from sklearn.ensemble import RandomForestClassifier\n",
    "from sklearn.naive_bayes import GaussianNB\n",
    "from sklearn.neighbors import KNeighborsClassifier\n",
    "from sklearn.neural_network import MLPClassifier\n",
    "from sklearn.metrics import accuracy_score, precision_score, recall_score, f1_score, classification_report, confusion_matrix\n",
    "from imblearn.over_sampling import SMOTE\n",
    "import matplotlib.pyplot as plt"
   ]
  },
  {
   "cell_type": "code",
   "execution_count": 2,
   "id": "e08416f9-1e10-415c-9a45-8573f2889feb",
   "metadata": {},
   "outputs": [
    {
     "name": "stderr",
     "output_type": "stream",
     "text": [
      "C:\\Users\\shane\\AppData\\Local\\Temp\\ipykernel_7964\\1022552256.py:3: DtypeWarning: Columns (51) have mixed types. Specify dtype option on import or set low_memory=False.\n",
      "  data = pd.read_csv(file_path)\n"
     ]
    }
   ],
   "source": [
    "# Load the dataset\n",
    "file_path = 'datasets/dataset_3.csv'\n",
    "data = pd.read_csv(file_path)\n",
    "\n",
    "# Data Cleaning and Preprocessing\n",
    "# Drop non-numeric and irrelevant columns\n",
    "data = data.drop(columns=['rul'], errors='ignore')\n",
    "data = data.dropna()\n",
    "\n",
    "# Define features (X) and target (y)\n",
    "X = data.drop(columns=['machine_status'])\n",
    "y = data['machine_status'].apply(lambda x: 0 if x == 'NORMAL' else 1)\n",
    "\n",
    "# Handle class imbalance using SMOTE\n",
    "smote = SMOTE(random_state=42)\n",
    "\n",
    "X, y = smote.fit_resample(X, y)\n",
    "\n",
    "# Standardize the numerical features\n",
    "scaler = StandardScaler()\n",
    "X = scaler.fit_transform(X)\n",
    "\n",
    "# Split the data into training and testing sets\n",
    "X_train, X_test, y_train, y_test = train_test_split(X, y, test_size=0.2, random_state=42)"
   ]
  },
  {
   "cell_type": "code",
   "execution_count": 3,
   "id": "8264921d",
   "metadata": {},
   "outputs": [],
   "source": [
    "# Function to train and evaluate a model\n",
    "results = {}\n",
    "def train_and_evaluate_model(model, model_name):\n",
    "    print(f\"Training {model_name}...\")\n",
    "    model.fit(X_train, y_train)\n",
    "    y_pred = model.predict(X_test)\n",
    "    # accuracy = accuracy_score(y_test, y_pred)\n",
    "    report = classification_report(y_test, y_pred)\n",
    "    # Calculate metrics\n",
    "    results[model_name] = {\n",
    "        'accuracy': accuracy_score(y_test, y_pred),\n",
    "        'precision': precision_score(y_test, y_pred, average='weighted'),\n",
    "        'recall': recall_score(y_test, y_pred, average='weighted'),\n",
    "        'f1_score': f1_score(y_test, y_pred, average='weighted')\n",
    "    }\n",
    "\n",
    "    print(f\"{model_name} Accuracy: {results[model_name]['accuracy']}\")\n",
    "    print(\"Confusion Matrix:\\n\", confusion_matrix(y_test, y_pred))\n",
    "    print(f\"Classification Report for {model_name}:\\n\", report)\n",
    "    print(\"-\" * 80)"
   ]
  },
  {
   "cell_type": "code",
   "execution_count": 4,
   "id": "71579ecc",
   "metadata": {},
   "outputs": [],
   "source": [
    "def plot_model_performance(results):\n",
    "    \"\"\"\n",
    "    Create a comprehensive bar plot to visualize model performance metrics.\n",
    "    \n",
    "    Parameters:\n",
    "    - results: Dictionary of performance metrics for each model\n",
    "    \"\"\"\n",
    "    plt.figure(figsize=(12, 6))\n",
    "    \n",
    "    # Prepare data for plotting\n",
    "    models = list(results.keys())\n",
    "    metrics = ['accuracy', 'precision', 'recall', 'f1_score']\n",
    "    \n",
    "    # Set up bar positions\n",
    "    x = np.arange(len(models))\n",
    "    width = 0.2\n",
    "    \n",
    "    # Plot each metric\n",
    "    for i, metric in enumerate(metrics):\n",
    "        metric_values = [results[model][metric] for model in models]\n",
    "        plt.bar(x + i*width, metric_values, width, label=metric.capitalize())\n",
    "    \n",
    "    # Customize the plot\n",
    "    plt.xlabel('Models', fontsize=12)\n",
    "    plt.ylabel('Score', fontsize=12)\n",
    "    plt.title('Model Performance Comparison', fontsize=14)\n",
    "    plt.xticks(x + width*1.5, models, rotation=45)\n",
    "    plt.ylim(0, 1)  # Metrics are typically between 0 and 1\n",
    "    plt.legend(loc='lower right')\n",
    "    plt.tight_layout()\n",
    "    \n",
    "    # Add value labels on top of each bar\n",
    "    for i, metric in enumerate(metrics):\n",
    "        metric_values = [results[model][metric] for model in models]\n",
    "        for j, v in enumerate(metric_values):\n",
    "            plt.text(j + i*width, v, f'{v:.2f}', ha='center', va='bottom', fontsize=8)\n",
    "    \n",
    "    plt.show()"
   ]
  },
  {
   "cell_type": "code",
   "execution_count": 5,
   "id": "c0d0a14d",
   "metadata": {},
   "outputs": [
    {
     "name": "stdout",
     "output_type": "stream",
     "text": [
      "Training SVM...\n",
      "SVM Accuracy: 0.9993326731820726\n",
      "Confusion Matrix:\n",
      " [[22965    31]\n",
      " [    0 23458]]\n",
      "Classification Report for SVM:\n",
      "               precision    recall  f1-score   support\n",
      "\n",
      "           0       1.00      1.00      1.00     22996\n",
      "           1       1.00      1.00      1.00     23458\n",
      "\n",
      "    accuracy                           1.00     46454\n",
      "   macro avg       1.00      1.00      1.00     46454\n",
      "weighted avg       1.00      1.00      1.00     46454\n",
      "\n",
      "--------------------------------------------------------------------------------\n"
     ]
    }
   ],
   "source": [
    "# Define and evaluate the SVM model\n",
    "svm_model = SVC(kernel='rbf', random_state=42, class_weight='balanced')\n",
    "train_and_evaluate_model(svm_model, \"SVM\")"
   ]
  },
  {
   "cell_type": "code",
   "execution_count": 6,
   "id": "bbd30c72",
   "metadata": {},
   "outputs": [
    {
     "name": "stdout",
     "output_type": "stream",
     "text": [
      "Training ANN...\n",
      "ANN Accuracy: 0.9999138933138159\n",
      "Confusion Matrix:\n",
      " [[22992     4]\n",
      " [    0 23458]]\n",
      "Classification Report for ANN:\n",
      "               precision    recall  f1-score   support\n",
      "\n",
      "           0       1.00      1.00      1.00     22996\n",
      "           1       1.00      1.00      1.00     23458\n",
      "\n",
      "    accuracy                           1.00     46454\n",
      "   macro avg       1.00      1.00      1.00     46454\n",
      "weighted avg       1.00      1.00      1.00     46454\n",
      "\n",
      "--------------------------------------------------------------------------------\n"
     ]
    }
   ],
   "source": [
    "# Define and evaluate the ANN model\n",
    "ann_model = MLPClassifier(hidden_layer_sizes=(100,), max_iter=300, random_state=42)\n",
    "train_and_evaluate_model(ann_model, \"ANN\")"
   ]
  },
  {
   "cell_type": "code",
   "execution_count": 7,
   "id": "36622c9c",
   "metadata": {},
   "outputs": [
    {
     "name": "stdout",
     "output_type": "stream",
     "text": [
      "Training Random Forest...\n",
      "Random Forest Accuracy: 0.9999138933138159\n",
      "Confusion Matrix:\n",
      " [[22992     4]\n",
      " [    0 23458]]\n",
      "Classification Report for Random Forest:\n",
      "               precision    recall  f1-score   support\n",
      "\n",
      "           0       1.00      1.00      1.00     22996\n",
      "           1       1.00      1.00      1.00     23458\n",
      "\n",
      "    accuracy                           1.00     46454\n",
      "   macro avg       1.00      1.00      1.00     46454\n",
      "weighted avg       1.00      1.00      1.00     46454\n",
      "\n",
      "--------------------------------------------------------------------------------\n"
     ]
    }
   ],
   "source": [
    "# Define and evaluate the Random Forest model\n",
    "rf_model = RandomForestClassifier(n_estimators=100, random_state=42, class_weight='balanced')\n",
    "train_and_evaluate_model(rf_model, \"Random Forest\")"
   ]
  },
  {
   "cell_type": "code",
   "execution_count": 8,
   "id": "40dd9ba5",
   "metadata": {},
   "outputs": [
    {
     "name": "stdout",
     "output_type": "stream",
     "text": [
      "Training Naive Bayes...\n",
      "Naive Bayes Accuracy: 0.989107504197701\n",
      "Confusion Matrix:\n",
      " [[22648   348]\n",
      " [  158 23300]]\n",
      "Classification Report for Naive Bayes:\n",
      "               precision    recall  f1-score   support\n",
      "\n",
      "           0       0.99      0.98      0.99     22996\n",
      "           1       0.99      0.99      0.99     23458\n",
      "\n",
      "    accuracy                           0.99     46454\n",
      "   macro avg       0.99      0.99      0.99     46454\n",
      "weighted avg       0.99      0.99      0.99     46454\n",
      "\n",
      "--------------------------------------------------------------------------------\n"
     ]
    }
   ],
   "source": [
    "# Define and evaluate the Naive Bayes model\n",
    "nb_model = GaussianNB()\n",
    "train_and_evaluate_model(nb_model, \"Naive Bayes\")"
   ]
  },
  {
   "cell_type": "code",
   "execution_count": 9,
   "id": "7667eeee",
   "metadata": {},
   "outputs": [
    {
     "name": "stdout",
     "output_type": "stream",
     "text": [
      "Training KNN...\n",
      "KNN Accuracy: 0.9998062599560856\n",
      "Confusion Matrix:\n",
      " [[22987     9]\n",
      " [    0 23458]]\n",
      "Classification Report for KNN:\n",
      "               precision    recall  f1-score   support\n",
      "\n",
      "           0       1.00      1.00      1.00     22996\n",
      "           1       1.00      1.00      1.00     23458\n",
      "\n",
      "    accuracy                           1.00     46454\n",
      "   macro avg       1.00      1.00      1.00     46454\n",
      "weighted avg       1.00      1.00      1.00     46454\n",
      "\n",
      "--------------------------------------------------------------------------------\n"
     ]
    }
   ],
   "source": [
    "# Define and evaluate the KNN model\n",
    "knn_model = KNeighborsClassifier(n_neighbors=5)\n",
    "train_and_evaluate_model(knn_model, \"KNN\")"
   ]
  },
  {
   "cell_type": "code",
   "execution_count": 10,
   "id": "dda0bec3",
   "metadata": {},
   "outputs": [
    {
     "data": {
      "image/png": "[encoded data removed]",
      "text/plain": [
       "<Figure size 1200x600 with 1 Axes>"
      ]
     },
     "metadata": {},
     "output_type": "display_data"
    }
   ],
   "source": [
    "plot_model_performance(results)"
   ]
  }
 ],
 "metadata": {
  "kernelspec": {
   "display_name": "base",
   "language": "python",
   "name": "python3"
  },
  "language_info": {
   "codemirror_mode": {
    "name": "ipython",
    "version": 3
   },
   "file_extension": ".py",
   "mimetype": "text/x-python",
   "name": "python",
   "nbconvert_exporter": "python",
   "pygments_lexer": "ipython3",
   "version": "3.12.4"
  }
 },
 "nbformat": 4,
 "nbformat_minor": 5
}
